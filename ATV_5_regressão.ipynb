{
  "nbformat": 4,
  "nbformat_minor": 0,
  "metadata": {
    "colab": {
      "provenance": []
    },
    "kernelspec": {
      "name": "python3",
      "display_name": "Python 3"
    },
    "language_info": {
      "name": "python"
    }
  },
  "cells": [
    {
      "cell_type": "code",
      "source": [
        "import seaborn as sns\n",
        "from sklearn import preprocessing\n",
        "from sklearn.preprocessing import MinMaxScaler\n",
        "import pandas as pd\n",
        "from sklearn.model_selection import train_test_split"
      ],
      "metadata": {
        "id": "pBt7mEXmnZ6f"
      },
      "execution_count": null,
      "outputs": []
    },
    {
      "cell_type": "code",
      "execution_count": null,
      "metadata": {
        "colab": {
          "base_uri": "https://localhost:8080/"
        },
        "id": "e1k7sY9SnIiI",
        "outputId": "3341edf6-7efc-4b8c-f906-0a739c9d741e"
      },
      "outputs": [
        {
          "output_type": "stream",
          "name": "stdout",
          "text": [
            "MSE para modelo linear, árvore de regressão e knn regressor respectivamente\n",
            "1.8847407116696901\n",
            "3.719999999999999\n",
            "9.066909090909087 \n",
            "\n",
            "MAE para modelo linear, árvore de regressão e knn regressor respectivamente\n",
            "0.9360050220166449\n",
            "1.4545454545454541\n",
            "2.407272727272726 \n",
            "\n"
          ]
        }
      ],
      "source": [
        "## Exercício 1 - Dataset \"car_crashes\" do seaborn\n",
        "\n",
        "# 1) Carregar o dataset \"car_crashes\"do seaborn\n",
        "df_1 = sns.load_dataset(\"car_crashes\")\n",
        "\n",
        "# 2) Dropar a coluna \"abbrev\"\n",
        "df_1.drop(\"abbrev\", axis=1, inplace=True) #remoção de toda a coluna abbrev, unica categórica\n",
        "\n",
        "# 3) Separar o dataframe, deixando a coluna 'total' para o target (coluna objetivo - y) e o restante para o X\n",
        "columns = len(df_1.columns)\n",
        "y_1 = df_1[\"total\"]\n",
        "X_1 = df_1.loc[:, \"speeding\":\"ins_losses\"]\n",
        "\n",
        "# 4) Normalizar todo o X\n",
        "df_1 = X_1.values\n",
        "min_max_scaler = preprocessing.MinMaxScaler()\n",
        "x1_scaled = min_max_scaler.fit_transform(df_1)\n",
        "X_1 = pd.DataFrame(x1_scaled)\n",
        "\n",
        "# 5) Separar os dados em treinamento e teste\n",
        "X1_train, X1_test, y1_train, y1_test = train_test_split(X_1, y_1, test_size=0.2, random_state=None)\n",
        "\n",
        "# 6) Treinar um modelo linear\n",
        "from sklearn import linear_model\n",
        "model1_lm = linear_model.LinearRegression()\n",
        "model1_lm.fit(X1_train, y1_train)\n",
        "result1_lm = model1_lm.predict(X1_test)\n",
        "\n",
        "\n",
        "# 7) Treinar uma árvores de regressão\n",
        "from sklearn.tree import DecisionTreeRegressor\n",
        "model1_tr = DecisionTreeRegressor()\n",
        "model1_tr.fit(X1_train, y1_train)\n",
        "result1_tr = model1_tr.predict(X1_test)\n",
        "\n",
        "# 8) Treinar um KNN para regressão\n",
        "from sklearn.neighbors import KNeighborsRegressor\n",
        "model1_kr = KNeighborsRegressor()\n",
        "model1_kr.fit(X1_train, y1_train)\n",
        "result1_kr = model1_kr.predict(X1_test)\n",
        "\n",
        "\n",
        "# 9) Apresentar os resultados dos erros usando: MSE, MAE e RMSE para os 3 modelos\n",
        "from sklearn.metrics import mean_squared_error, mean_absolute_error, r2_score\n",
        "print(\"MSE para modelo linear, árvore de regressão e knn regressor respectivamente\")\n",
        "print(mean_squared_error(y1_test, result1_lm))\n",
        "print(mean_squared_error(y1_test, result1_tr))\n",
        "print(mean_squared_error(y1_test, result1_kr), \"\\n\")\n",
        "print(\"MAE para modelo linear, árvore de regressão e knn regressor respectivamente\")\n",
        "print(mean_absolute_error(y1_test, result1_lm))\n",
        "print(mean_absolute_error(y1_test, result1_tr))\n",
        "print(mean_absolute_error(y1_test, result1_kr), \"\\n\")\n",
        "\n"
      ]
    },
    {
      "cell_type": "code",
      "source": [
        "#from sklearn.metrics import root_mean_squared_error\n",
        "#não consigo importar nem consegui baixar para responder a 9 do primeiro exercício"
      ],
      "metadata": {
        "id": "SiDqGiMzlxv3"
      },
      "execution_count": null,
      "outputs": []
    },
    {
      "cell_type": "code",
      "source": [
        "## Exercício 2 - Dataset Parkinsons (dataset com 2 classes)\n",
        "\n",
        "# 1) Carregar o dataset \"parkinsons\" pela URL abaixo:\n",
        "url = \"https://raw.githubusercontent.com/tmoura/machinelearning/master/parkinsons.data\"\n",
        "df_2 = pd.read_csv(url, header=None)\n",
        "\n",
        "# 2) Separar os dados y e X. A coluna y é a coluna 0 (zero)\n",
        "y_2 = df_2[0]\n",
        "X_2 = df_2.drop(0, axis=1)\n",
        "\n",
        "# 3) Normalizar todas as colunas de X (usando o mesmo código da questão anterior)\n",
        "df_2 = X_2.values\n",
        "min_max_scaler = MinMaxScaler()\n",
        "x2_scaled = min_max_scaler.fit_transform(df_2)\n",
        "X_2 = pd.DataFrame(x2_scaled)\n",
        "\n",
        "# 4) Separar oa dados em treinamento e teste\n",
        "X2_train, X2_test, y2_train, y2_test = train_test_split(X_2, y_2, test_size=0.2, random_state=None, stratify=y_2)\n",
        "\n",
        "# 5) Treinar um modelo de regressão logística\n",
        "from sklearn.linear_model import LogisticRegression\n",
        "model2_lr = LogisticRegression()\n",
        "model2_lr.fit(X2_train, y2_train)\n",
        "result2_lr = model2_lr.predict(X2_test)\n",
        "\n",
        "# 6) Treinar uma árvore de decisão\n",
        "from sklearn.tree import DecisionTreeClassifier\n",
        "model2_tc = DecisionTreeClassifier()\n",
        "model2_tc.fit(X2_train, y2_train)\n",
        "result2_tc = model2_tc.predict(X2_test)\n",
        "\n",
        "# 7) Treinar um KNN para classificação\n",
        "from sklearn.neighbors import KNeighborsClassifier\n",
        "model2_knc = KNeighborsClassifier()\n",
        "model2_knc.fit(X2_train, y2_train)\n",
        "result2_knc = model2_knc.predict(X2_test)\n",
        "\n",
        "# 8) Apresentar os resultados de acurácia em percentual\n",
        "from sklearn import metrics\n",
        "\n",
        "print(\"Logistic regression\")\n",
        "acc2_lr = metrics.accuracy_score(result2_lr, y2_test)\n",
        "show2_lr = round(acc2_lr*100)\n",
        "print(\"{}%\".format(show2_lr), \"\\n\")\n",
        "\n",
        "print(\"Decision tree\")\n",
        "acc2_tc = metrics.accuracy_score(result2_tc, y2_test)\n",
        "show2_tc = round(acc2_tc*100)\n",
        "print(\"{}%\".format(show2_tc), \"\\n\")\n",
        "\n",
        "print(\"KNN\")\n",
        "acc2_knc = metrics.accuracy_score(result2_knc, y2_test)\n",
        "show2_knc = round(acc2_knc*100)\n",
        "print(\"{}%\".format(show2_knc))\n",
        "\n"
      ],
      "metadata": {
        "colab": {
          "base_uri": "https://localhost:8080/"
        },
        "id": "eXona4uqnQyu",
        "outputId": "0f0371c7-7b5e-49e1-f174-a33a90f27534"
      },
      "execution_count": null,
      "outputs": [
        {
          "output_type": "stream",
          "name": "stdout",
          "text": [
            "Logistic regression\n",
            "85% \n",
            "\n",
            "Decision tree\n",
            "82% \n",
            "\n",
            "KNN\n",
            "95%\n"
          ]
        }
      ]
    },
    {
      "cell_type": "code",
      "source": [
        "## Exercício 3 - Dataset attention do seaborn\n",
        "\n",
        "# 1) Carregar o dataset \"attention\" do seaborn\n",
        "df_3 = sns.load_dataset(\"attention\")\n",
        "\n",
        "# 2) Fazer um LabelEncoder na coluna \"attention\"\n",
        "from sklearn.preprocessing import LabelEncoder\n",
        "label_encoder = LabelEncoder()\n",
        "df_3[\"attention\"] = label_encoder.fit_transform(df_3[\"attention\"])\n",
        "\n",
        "# 3) Separar o dataframe, deixando a coluna 'attention' para o target (coluna objetivo - y) e as colunas \"solutions\" e \"score\" para o X\n",
        "df_3.drop(\"Unnamed: 0\", axis=1, inplace=True) #retirando pois será usado apenas attention, solutions e score\n",
        "df_3.drop(\"subject\", axis=1, inplace=True) #retirando pois será usado apenas attention, solutions e score\n",
        "y_3 = df_3['attention']\n",
        "X_3 = df_3.drop(\"attention\", axis=1)\n",
        "\n",
        "# 4) Normalizar todo o X usando o mesmo código da questão 1\n",
        "df_3 = X_3.values\n",
        "min_max_scaler = MinMaxScaler()\n",
        "x3_scaled = min_max_scaler.fit_transform(df_3)\n",
        "X_3 = pd.DataFrame(x3_scaled)\n",
        "\n",
        "# 5) Separar os dados em treinamento e teste\n",
        "X3_train, X3_test, y3_train, y3_test = train_test_split(X_3, y_3, test_size=0.2, random_state=None, stratify=y_3)\n",
        "\n",
        "# 6) Treinar um modelo de regressão logística\n",
        "from sklearn.linear_model import LogisticRegression\n",
        "model3_lr = LogisticRegression()\n",
        "model3_lr.fit(X3_train, y3_train)\n",
        "result3_lr = model3_lr.predict(X3_test)\n",
        "\n",
        "# 7) Treinar uma árvore de decisão\n",
        "from sklearn.tree import DecisionTreeClassifier\n",
        "model3_tc = DecisionTreeClassifier()\n",
        "model3_tc.fit(X3_train, y3_train)\n",
        "result3_tc = model3_tc.predict(X3_test)\n",
        "\n",
        "# 8) Treinar um KNN para classificação\n",
        "from sklearn.neighbors import KNeighborsClassifier\n",
        "model3_knc = KNeighborsClassifier()\n",
        "model3_knc.fit(X3_train, y3_train)\n",
        "result3_knc = model3_knc.predict(X3_test)\n",
        "\n",
        "# 9) Apresentar os resultados de acurárica em percentual\n",
        "from sklearn import metrics\n",
        "\n",
        "print(\"Logistic regression\")\n",
        "acc3_lr = metrics.accuracy_score(result3_lr, y3_test)\n",
        "show3_lr = round(acc3_lr*100)\n",
        "print(\"{}%\".format(show3_lr), \"\\n\")\n",
        "\n",
        "print(\"Decision tree\")\n",
        "acc3_tc = metrics.accuracy_score(result3_tc, y3_test)\n",
        "show3_tc = round(acc3_tc*100)\n",
        "print(\"{}%\".format(show3_tc), \"\\n\")\n",
        "\n",
        "print(\"KNN\")\n",
        "acc3_knc = metrics.accuracy_score(result3_knc, y3_test)\n",
        "show3_knc = round(acc3_knc*100)\n",
        "print(\"{}%\".format(show3_knc))"
      ],
      "metadata": {
        "colab": {
          "base_uri": "https://localhost:8080/"
        },
        "id": "otuw70p-nVBO",
        "outputId": "f78c4a84-c14e-4419-92e7-d7e0a2c20dfe"
      },
      "execution_count": null,
      "outputs": [
        {
          "output_type": "stream",
          "name": "stdout",
          "text": [
            "Logistic regression\n",
            "75% \n",
            "\n",
            "Decision tree\n",
            "67% \n",
            "\n",
            "KNN\n",
            "92%\n"
          ]
        }
      ]
    }
  ]
}